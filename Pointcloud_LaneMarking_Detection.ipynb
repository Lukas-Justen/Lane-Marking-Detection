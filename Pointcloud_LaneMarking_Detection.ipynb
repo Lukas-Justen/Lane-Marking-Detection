{
 "cells": [
  {
   "cell_type": "markdown",
   "metadata": {},
   "source": [
    "# 1. Pointcloud Visualization\n",
    "\n",
    "##### Idea\n",
    "\n",
    "To visualize the given LIDAR pointcloud data we first needed to convert the latitude and longitude information to a cartesian coordinate system that has X, Y and Z values to specify a single point. We can do this by using the latitude and longitude information to calculate the UTM coordinates for each point. As a result we will get a value for the easting (X) and northing (Y). The altitude value, which is already given as meters can thus be seen as the Z value in our new coordinate system. After saving the data to a new file we can then use http://lidarview.com/ to visualize the pointcloud to get a first impression of the data.\n",
    "\n",
    "##### Problems\n",
    "\n",
    "Our initial thought was that the intesity of each point in our point cloud is very important to determine the the lane markings in the point cloud. In fact, the lane marking are on a flat surface and the marking itself can also be seen as a flat line on the flat surface. Therfore, we cannot use the shape or variance in the point cloud to detect the lane markings. However, the intensity of each LIDAR point should contain enough information to recover the lane marking from the flat surface since the lane marking should have a higher intensity compared to the plain asphalt or concrete of the street. The problem during the visualization was that the visualization tool that we were using could not visualize the intensity of each point. As you can see in the following image, the visualization uses different colors to denote the elevation instead of the intensity of each point. Although the tool had an option for choosing the intensity the visualization did not work, maybe because the intensity was in a wrong format. Finally, we tried to use this tool https://asmaloney.com/software/ which was able to visualize the intensity in a proper manner. You can now easily recognize the lane markings which shows, that we can use the intensity to identify the lane markings.\n",
    "\n",
    "##### Results\n",
    "![Full LIDAR Pointcloud Visualization](FullView.png \"Full LIDAR Pointcloud View\")\n",
    "\n",
    "![Intensity LIDAR Pointcloud Visualization](IntensityView.png \"Intensity LIDAR Pointcloud View\")\n",
    "\n",
    "###### Code"
   ]
  },
  {
   "cell_type": "code",
   "execution_count": 16,
   "metadata": {},
   "outputs": [],
   "source": [
    "import numpy as np\n",
    "import pandas as pd\n",
    "import geopandas as gp\n",
    "\n",
    "from shapely import wkt\n",
    "from sklearn.cluster import DBSCAN\n",
    "from sklearn.preprocessing import StandardScaler\n",
    "from scipy.spatial.distance import pdist\n",
    "from scipy.spatial.distance import squareform\n",
    "\n",
    "import utm"
   ]
  },
  {
   "cell_type": "code",
   "execution_count": 2,
   "metadata": {},
   "outputs": [],
   "source": [
    "def read_fuse_to_df(df_name):\n",
    "    data = []\n",
    "    \n",
    "    with open(df_name) as f:  \n",
    "        line = f.readline()\n",
    "        while line:\n",
    "            d = line.split()\n",
    "            data.append(d)\n",
    "            line = f.readline()\n",
    "\n",
    "    a = np.array(data)\n",
    "    \n",
    "    pointcloud_df = pd.DataFrame()\n",
    "    pointcloud_df[\"Latitude\"] = a[:,0]\n",
    "    pointcloud_df[\"Longitude\"] = a[:,1]\n",
    "    pointcloud_df[\"Altitude\"] = a[:,2]\n",
    "    pointcloud_df[\"Intensity\"] = a[:,3]\n",
    "\n",
    "    return pointcloud_df"
   ]
  },
  {
   "cell_type": "code",
   "execution_count": 3,
   "metadata": {},
   "outputs": [],
   "source": [
    "def convert_fuse(pointcloud_df, min_x = 0.0, min_y = 0.0, min_z = 0.0):\n",
    "    pointcloud_df[\"Latitude\"] = pd.to_numeric(pointcloud_df[\"Latitude\"])\n",
    "    pointcloud_df[\"Longitude\"] = pd.to_numeric(pointcloud_df[\"Longitude\"])\n",
    "    pointcloud_df[\"Altitude\"] = pd.to_numeric(pointcloud_df[\"Altitude\"])\n",
    "    pointcloud_df[\"Intensity\"] = pd.to_numeric(pointcloud_df[\"Intensity\"])\n",
    "    pointcloud_df[\"Easting\"] = pointcloud_df.apply(lambda x: utm.from_latlon(x[\"Latitude\"], x[\"Longitude\"])[0], axis = 1)\n",
    "    pointcloud_df[\"Northing\"] = pointcloud_df.apply(lambda x: utm.from_latlon(x[\"Latitude\"], x[\"Longitude\"])[1], axis = 1)\n",
    "    \n",
    "    if min_x == 0:\n",
    "        min_x = pointcloud_df[\"Easting\"].min()\n",
    "    if min_y == 0:\n",
    "        min_y = pointcloud_df[\"Northing\"].min()   \n",
    "    if min_z == 0:\n",
    "        min_z = pointcloud_df[\"Altitude\"].min()    \n",
    "        \n",
    "    pointcloud_df[\"Easting\"] = pointcloud_df[\"Easting\"] - min_x    \n",
    "    pointcloud_df[\"Northing\"] = pointcloud_df[\"Northing\"] - min_y\n",
    "    pointcloud_df[\"Altitude\"] = pointcloud_df[\"Altitude\"] - min_z\n",
    "    \n",
    "    return pointcloud_df, (min_x, min_y, min_z)"
   ]
  },
  {
   "cell_type": "code",
   "execution_count": 4,
   "metadata": {},
   "outputs": [
    {
     "data": {
      "text/html": [
       "<div>\n",
       "<style scoped>\n",
       "    .dataframe tbody tr th:only-of-type {\n",
       "        vertical-align: middle;\n",
       "    }\n",
       "\n",
       "    .dataframe tbody tr th {\n",
       "        vertical-align: top;\n",
       "    }\n",
       "\n",
       "    .dataframe thead th {\n",
       "        text-align: right;\n",
       "    }\n",
       "</style>\n",
       "<table border=\"1\" class=\"dataframe\">\n",
       "  <thead>\n",
       "    <tr style=\"text-align: right;\">\n",
       "      <th></th>\n",
       "      <th>Latitude</th>\n",
       "      <th>Longitude</th>\n",
       "      <th>Altitude</th>\n",
       "      <th>Intensity</th>\n",
       "      <th>Easting</th>\n",
       "      <th>Northing</th>\n",
       "    </tr>\n",
       "  </thead>\n",
       "  <tbody>\n",
       "    <tr>\n",
       "      <th>0</th>\n",
       "      <td>45.903883</td>\n",
       "      <td>11.028414</td>\n",
       "      <td>10.6604</td>\n",
       "      <td>10</td>\n",
       "      <td>108.226321</td>\n",
       "      <td>65.043547</td>\n",
       "    </tr>\n",
       "    <tr>\n",
       "      <th>1</th>\n",
       "      <td>45.903683</td>\n",
       "      <td>11.028221</td>\n",
       "      <td>12.6662</td>\n",
       "      <td>5</td>\n",
       "      <td>93.822923</td>\n",
       "      <td>42.445590</td>\n",
       "    </tr>\n",
       "    <tr>\n",
       "      <th>2</th>\n",
       "      <td>45.903683</td>\n",
       "      <td>11.028222</td>\n",
       "      <td>12.6415</td>\n",
       "      <td>7</td>\n",
       "      <td>93.938542</td>\n",
       "      <td>42.355143</td>\n",
       "    </tr>\n",
       "    <tr>\n",
       "      <th>3</th>\n",
       "      <td>45.903682</td>\n",
       "      <td>11.028224</td>\n",
       "      <td>12.6263</td>\n",
       "      <td>7</td>\n",
       "      <td>94.080686</td>\n",
       "      <td>42.289830</td>\n",
       "    </tr>\n",
       "    <tr>\n",
       "      <th>4</th>\n",
       "      <td>45.903681</td>\n",
       "      <td>11.028226</td>\n",
       "      <td>12.6188</td>\n",
       "      <td>7</td>\n",
       "      <td>94.233803</td>\n",
       "      <td>42.220349</td>\n",
       "    </tr>\n",
       "  </tbody>\n",
       "</table>\n",
       "</div>"
      ],
      "text/plain": [
       "    Latitude  Longitude  Altitude  Intensity     Easting   Northing\n",
       "0  45.903883  11.028414   10.6604         10  108.226321  65.043547\n",
       "1  45.903683  11.028221   12.6662          5   93.822923  42.445590\n",
       "2  45.903683  11.028222   12.6415          7   93.938542  42.355143\n",
       "3  45.903682  11.028224   12.6263          7   94.080686  42.289830\n",
       "4  45.903681  11.028226   12.6188          7   94.233803  42.220349"
      ]
     },
     "execution_count": 4,
     "metadata": {},
     "output_type": "execute_result"
    }
   ],
   "source": [
    "pointcloud_df = read_fuse_to_df('./data/pointcloud.fuse')\n",
    "pointcloud_df, (min_x, min_y, min_z) = convert_fuse(pointcloud_df)\n",
    "\n",
    "pointcloud_df.head()"
   ]
  },
  {
   "cell_type": "code",
   "execution_count": 5,
   "metadata": {},
   "outputs": [
    {
     "data": {
      "text/html": [
       "<div>\n",
       "<style scoped>\n",
       "    .dataframe tbody tr th:only-of-type {\n",
       "        vertical-align: middle;\n",
       "    }\n",
       "\n",
       "    .dataframe tbody tr th {\n",
       "        vertical-align: top;\n",
       "    }\n",
       "\n",
       "    .dataframe thead th {\n",
       "        text-align: right;\n",
       "    }\n",
       "</style>\n",
       "<table border=\"1\" class=\"dataframe\">\n",
       "  <thead>\n",
       "    <tr style=\"text-align: right;\">\n",
       "      <th></th>\n",
       "      <th>Easting</th>\n",
       "      <th>Northing</th>\n",
       "      <th>Altitude</th>\n",
       "      <th>Intensity</th>\n",
       "    </tr>\n",
       "  </thead>\n",
       "  <tbody>\n",
       "    <tr>\n",
       "      <th>0</th>\n",
       "      <td>108.226321</td>\n",
       "      <td>65.043547</td>\n",
       "      <td>10.6604</td>\n",
       "      <td>10</td>\n",
       "    </tr>\n",
       "    <tr>\n",
       "      <th>1</th>\n",
       "      <td>93.822923</td>\n",
       "      <td>42.445590</td>\n",
       "      <td>12.6662</td>\n",
       "      <td>5</td>\n",
       "    </tr>\n",
       "    <tr>\n",
       "      <th>2</th>\n",
       "      <td>93.938542</td>\n",
       "      <td>42.355143</td>\n",
       "      <td>12.6415</td>\n",
       "      <td>7</td>\n",
       "    </tr>\n",
       "    <tr>\n",
       "      <th>3</th>\n",
       "      <td>94.080686</td>\n",
       "      <td>42.289830</td>\n",
       "      <td>12.6263</td>\n",
       "      <td>7</td>\n",
       "    </tr>\n",
       "    <tr>\n",
       "      <th>4</th>\n",
       "      <td>94.233803</td>\n",
       "      <td>42.220349</td>\n",
       "      <td>12.6188</td>\n",
       "      <td>7</td>\n",
       "    </tr>\n",
       "  </tbody>\n",
       "</table>\n",
       "</div>"
      ],
      "text/plain": [
       "      Easting   Northing  Altitude  Intensity\n",
       "0  108.226321  65.043547   10.6604         10\n",
       "1   93.822923  42.445590   12.6662          5\n",
       "2   93.938542  42.355143   12.6415          7\n",
       "3   94.080686  42.289830   12.6263          7\n",
       "4   94.233803  42.220349   12.6188          7"
      ]
     },
     "execution_count": 5,
     "metadata": {},
     "output_type": "execute_result"
    }
   ],
   "source": [
    "xyzi_df = pointcloud_df[[\"Easting\", \"Northing\", \"Altitude\", \"Intensity\"]]\n",
    "xyzi_df.to_csv(\"./data/pointcloud.xyz\", sep=\" \", header=False, index=False)\n",
    "xyzi_df.head()"
   ]
  },
  {
   "cell_type": "markdown",
   "metadata": {},
   "source": [
    "# 2. Pointcloud Filtering\n",
    "\n",
    "##### Idea\n",
    "To identify the lanes in a much better way we first tried to remove all the noise from the data. In our case that means that we wanted to remove points with an intensity that is too high or too low to be a candidate lane marking point. Since different light conditions throughout the day might influence the intensity value, we first calculated the mean and standard deviation intensity for all points. The assumption here is that the lane marking points have a higher intensity value compared to the mean of all pointcloud points. We could have also set an adaptive threshold per pointcloud slice. However, since there was no slice information left we had to use this approach. The nefit of an adaptive threshold would have been that this approach is more robust against different light conditions within the current scene (e.g. a car that is just about to enter a tunnel but has not entered the tunnel yet). The first figure in the results section below shows the lane marking cloud point after the first filtering process.\n",
    "\n",
    "As you can also see in the figure, there are a lot of points off the road that obviosly do not belong to the lanes. To reduce the number of points that are off the road we used the actual trajectory information in order to remove points that are too far away from the actual trajectory line. We use a threshold of 20 meters to remove all points that are further away. That way we can reduce the number of points from 32191 to 18496. The second figure in the results below shows the remaining points after filtering based on the trajectory lines.\n",
    "\n",
    "##### Problems\n",
    "One major problem was that we could not use an adaptive threshold to remove more noise. While we could have computed an adaptive threshold in the 3 dimensional space, this approach would have been too computationaly expensive especially for the large dataset that we had in the beginning. A problem that might occur with our current algorithm setup are the boundaries for our threshold. Right now we tried to tweek the threshold boundaries to get good results. It would be good to test our current thresholds on larger datasets to see if our approach is valid or if we really need to use an adaptive threshold.\n",
    "\n",
    "##### Results\n",
    "![First LIDAR Pointcloud Filter](FirstFilter.png \"First LIDAR Pointcloud Filter\")\n",
    "![Trajectory LIDAR Pointcloud Filter](TrajectoryFilter.png \"Trajectory LIDAR Pointcloud Filter\")\n",
    "\n",
    "##### Code"
   ]
  },
  {
   "cell_type": "code",
   "execution_count": 6,
   "metadata": {},
   "outputs": [],
   "source": [
    "def convert_to_shape(row):\n",
    "    return wkt.loads(\"POINT (\" + str(row[\"Easting\"]) + \" \" + str(row[\"Northing\"]) +\" \" + str(row[\"Altitude\"]) + \")\")"
   ]
  },
  {
   "cell_type": "code",
   "execution_count": 7,
   "metadata": {},
   "outputs": [],
   "source": [
    "def filter_by_mean_value(pointcloud_df):\n",
    "\n",
    "    mean = pointcloud_df[\"Intensity\"].mean()\n",
    "    std = pointcloud_df[\"Intensity\"].std()\n",
    "\n",
    "    lanes_df = pointcloud_df[pointcloud_df[\"Intensity\"] > mean + 1 * std]\n",
    "    lanes_df = lanes_df[lanes_df[\"Intensity\"] < mean + 7 * std ]\n",
    "\n",
    "    print(\"MEAN FILTER:\")\n",
    "    print(\"============\")\n",
    "    print(\"Intensity - Mean value:      \", mean)\n",
    "    print(\"Intensity - Std value:       \", std)\n",
    "    print(\"Intensity - Lower bound:     \", mean + 1 * std)\n",
    "    print(\"Intensity - Upper bound:     \", mean + 7 * std)\n",
    "    print(\"Intensity - Filtered points: \", len(lanes_df))\n",
    "    print(\"Intensity - Original points: \", len(pointcloud_df))\n",
    "    print(\"Intensity - Reduction to %:  \", len(lanes_df)/len(pointcloud_df))\n",
    "    \n",
    "    return lanes_df"
   ]
  },
  {
   "cell_type": "code",
   "execution_count": 8,
   "metadata": {},
   "outputs": [],
   "source": [
    "def get_trajectory_line(trajectory_file='./data/trajectory.fuse', min_x=0.0, min_y=0.0, min_z=0.0):\n",
    "    trajectory_df = read_fuse_to_df(trajectory_file)\n",
    "    trajectory_df, (min_x, min_y, min_z) = convert_fuse(trajectory_df, min_x, min_y, min_z)\n",
    "    trajectory_df[[\"Easting\", \"Northing\", \"Altitude\", \"Intensity\"]].to_csv(\"./data/trajectory.xyz\", index=False)\n",
    "\n",
    "    line = \"LINESTRING(\"\n",
    "    for index, row in trajectory_df.iterrows():\n",
    "        line = line + str(row[\"Easting\"]) + \" \" + str(row[\"Northing\"]) + \" \" + str(row[\"Altitude\"]) + \", \"\n",
    "    line = line[:-2] + \")\"\n",
    "    trajectory_line = wkt.loads(line)\n",
    "    \n",
    "    return trajectory_line, (min_x, min_y, min_z)"
   ]
  },
  {
   "cell_type": "code",
   "execution_count": 9,
   "metadata": {},
   "outputs": [],
   "source": [
    "def filter_by_trajectory_line(pointcloud_df, trajectory_line):\n",
    "    rows = []\n",
    "\n",
    "    for index, row in pointcloud_df.iterrows():\n",
    "        distance = trajectory_line.distance(row[\"Shape\"])\n",
    "        if distance <= 20:\n",
    "            rows.append(row)\n",
    "\n",
    "    filtered_lanes_df = pd.DataFrame(rows, columns=['Easting', 'Northing', 'Altitude', 'Intensity', 'Shape'])\n",
    "    \n",
    "    print(\"\\nTRAJECTORY FILTER:\")\n",
    "    print(\"============\")\n",
    "    print(\"Intensity - Filtered points: \", len(filtered_lanes_df))\n",
    "    print(\"Intensity - Original points: \", len(pointcloud_df))\n",
    "    print(\"Intensity - Reduction to %:  \", len(filtered_lanes_df)/len(pointcloud_df))\n",
    "    return filtered_lanes_df"
   ]
  },
  {
   "cell_type": "code",
   "execution_count": 10,
   "metadata": {},
   "outputs": [
    {
     "name": "stdout",
     "output_type": "stream",
     "text": [
      "MEAN FILTER:\n",
      "============\n",
      "Intensity - Mean value:       8.246153096095984\n",
      "Intensity - Std value:        10.862899760743089\n",
      "Intensity - Lower bound:      19.10905285683907\n",
      "Intensity - Upper bound:      84.2864514212976\n",
      "Intensity - Filtered points:  32191\n",
      "Intensity - Original points:  430736\n",
      "Intensity - Reduction to %:   0.07473487240444263\n",
      "\n",
      "TRAJECTORY FILTER:\n",
      "============\n",
      "Intensity - Filtered points:  18496\n",
      "Intensity - Original points:  32191\n",
      "Intensity - Reduction to %:   0.5745705321363114\n"
     ]
    }
   ],
   "source": [
    "trajectory_line, (min_x, min_y, min_z) = get_trajectory_line('./data/trajectory.fuse',min_x, min_y, min_z)\n",
    "\n",
    "lanes_df = xyzi_df.copy()\n",
    "lanes_df = filter_by_mean_value(lanes_df)\n",
    "lanes_df[['Easting', 'Northing', 'Altitude', 'Intensity']].to_csv(\"./data/filter_mean.xyz\", index=False)\n",
    "lanes_df['Shape'] = lanes_df.apply(convert_to_shape, axis=1)\n",
    "lanes_df = filter_by_trajectory_line(lanes_df, trajectory_line)\n",
    "lanes_df[['Easting', 'Northing', 'Altitude', 'Intensity']].to_csv(\"./data/filter_trajectory.xyz\", index=False)"
   ]
  },
  {
   "cell_type": "markdown",
   "metadata": {},
   "source": [
    "# 2. Lane Marking Detection\n",
    "\n",
    "##### Idea\n",
    "After filtering the pointcloud with our trajectory filter and the mean value filter we can already see the lane markings. Unfortunately, we can also see the lane markings of the road into the other direction. However, you can seem that there are less points for these lane markings. Obviosly the density of points in a small area can be used to identify larger structures such as lane markings. Therefore, we wanted to group points that might belong together. We did this by using a Scikit Learn clustering algorithm. The DBSCAN algorithm allows us to specify a number for the points that are required to form a cluster and the distance between clusters. In our case this means that we require 40 points to build a cluster and the distance to be counted towards a cluster is 0.05. The result of the clustering algorithm can be seen in the following figure. Another side effect of the clustering is that we can get rid of \n",
    "4073 more points so that we now only have 14423 points that are most likely to be part of a lane marking.\n",
    "\n",
    "After clustering the points we can already see the lines. To gather actual line segments from the data we took the two points within each cluster that are furthest apart from each other. These two points serve as the starting and end point for a line segment. We use efficient numpy and scipy methods to calculate the distances in a quick manner. The result of the calculation can be visualized using matplotlib. The rendered example is illustrated by figure 2 in the results section below.\n",
    "\n",
    "##### Problems\n",
    "\n",
    "##### Results\n",
    "![Clustering LIDAR Pointcloud](Clustering.png \"Clustering LIDAR Pointcloud\")\n",
    "\n",
    "![Lines LIDAR Pointcloud](Lines.png \"Lines LIDAR Pointcloud\")\n",
    "\n",
    "##### Code"
   ]
  },
  {
   "cell_type": "code",
   "execution_count": 13,
   "metadata": {},
   "outputs": [
    {
     "data": {
      "text/html": [
       "<div>\n",
       "<style scoped>\n",
       "    .dataframe tbody tr th:only-of-type {\n",
       "        vertical-align: middle;\n",
       "    }\n",
       "\n",
       "    .dataframe tbody tr th {\n",
       "        vertical-align: top;\n",
       "    }\n",
       "\n",
       "    .dataframe thead th {\n",
       "        text-align: right;\n",
       "    }\n",
       "</style>\n",
       "<table border=\"1\" class=\"dataframe\">\n",
       "  <thead>\n",
       "    <tr style=\"text-align: right;\">\n",
       "      <th></th>\n",
       "      <th>Easting</th>\n",
       "      <th>Northing</th>\n",
       "      <th>Altitude</th>\n",
       "      <th>Group</th>\n",
       "    </tr>\n",
       "  </thead>\n",
       "  <tbody>\n",
       "    <tr>\n",
       "      <th>1050</th>\n",
       "      <td>90.562372</td>\n",
       "      <td>33.074015</td>\n",
       "      <td>3.0326</td>\n",
       "      <td>0</td>\n",
       "    </tr>\n",
       "    <tr>\n",
       "      <th>1171</th>\n",
       "      <td>90.305497</td>\n",
       "      <td>32.615001</td>\n",
       "      <td>3.0271</td>\n",
       "      <td>0</td>\n",
       "    </tr>\n",
       "    <tr>\n",
       "      <th>1246</th>\n",
       "      <td>90.323212</td>\n",
       "      <td>32.254134</td>\n",
       "      <td>3.0355</td>\n",
       "      <td>0</td>\n",
       "    </tr>\n",
       "    <tr>\n",
       "      <th>1253</th>\n",
       "      <td>90.274629</td>\n",
       "      <td>32.241780</td>\n",
       "      <td>3.0346</td>\n",
       "      <td>0</td>\n",
       "    </tr>\n",
       "    <tr>\n",
       "      <th>1274</th>\n",
       "      <td>90.677347</td>\n",
       "      <td>31.940733</td>\n",
       "      <td>3.0455</td>\n",
       "      <td>0</td>\n",
       "    </tr>\n",
       "  </tbody>\n",
       "</table>\n",
       "</div>"
      ],
      "text/plain": [
       "        Easting   Northing  Altitude  Group\n",
       "1050  90.562372  33.074015    3.0326      0\n",
       "1171  90.305497  32.615001    3.0271      0\n",
       "1246  90.323212  32.254134    3.0355      0\n",
       "1253  90.274629  32.241780    3.0346      0\n",
       "1274  90.677347  31.940733    3.0455      0"
      ]
     },
     "execution_count": 13,
     "metadata": {},
     "output_type": "execute_result"
    }
   ],
   "source": [
    "X = lanes_df[[\"Easting\", \"Northing\", \"Altitude\"]].values\n",
    "X = StandardScaler().fit_transform(X)\n",
    "\n",
    "db = DBSCAN(eps=0.05, min_samples=40).fit(X)\n",
    "labels = db.labels_\n",
    "n_clusters_ = len(set(labels)) - (1 if -1 in labels else 0)\n",
    "n_noise_ = list(labels).count(-1)\n",
    "\n",
    "lanes_df[\"Group\"] = labels\n",
    "cluster_df = lanes_df[[\"Easting\", \"Northing\", \"Altitude\", \"Group\"]]\n",
    "cluster_df = cluster_df[cluster_df[\"Group\"]>=0]\n",
    "cluster_df.to_csv(\"./data/clustering.xyz\",index=False)\n",
    "cluster_df.head()"
   ]
  },
  {
   "cell_type": "code",
   "execution_count": 14,
   "metadata": {},
   "outputs": [
    {
     "name": "stdout",
     "output_type": "stream",
     "text": [
      "Final list of labels:        [-1 -1 -1 ...  3 35  3]\n",
      "Number of Clusters:          41\n",
      "Number of Noise points:      4073\n",
      "Number of clustered points:  14423\n"
     ]
    }
   ],
   "source": [
    "print(\"Final list of labels:       \", labels)\n",
    "print(\"Number of Clusters:         \", n_clusters_)\n",
    "print(\"Number of Noise points:     \", n_noise_)\n",
    "print(\"Number of clustered points: \", len(cluster_df))"
   ]
  },
  {
   "cell_type": "code",
   "execution_count": 53,
   "metadata": {},
   "outputs": [],
   "source": [
    "lines = []\n",
    "\n",
    "for cluster in range(n_clusters_):\n",
    "    sub_cluster_df = cluster_df[cluster_df[\"Group\"] == cluster]\n",
    "    points = sub_cluster_df[[\"Easting\",\"Northing\", \"Altitude\"]].values\n",
    "    distances = squareform(pdist(points))\n",
    "    max_dist = np.max(distances)\n",
    "    max_index = np.argmax(distances)\n",
    "    i1, i2 = np.unravel_index(max_index, distances.shape)\n",
    "    p1 = sub_cluster_df.iloc[i1]\n",
    "    p2 = sub_cluster_df.iloc[i2]\n",
    "    lines.append(([p1[\"Easting\"], p2[\"Easting\"]],[p1[\"Northing\"], p2[\"Northing\"]]))"
   ]
  },
  {
   "cell_type": "code",
   "execution_count": 61,
   "metadata": {},
   "outputs": [
    {
     "data": {
      "image/png": "[encoded data removed]",
      "text/plain": [
       "<Figure size 1440x720 with 1 Axes>"
      ]
     },
     "metadata": {
      "needs_background": "light"
     },
     "output_type": "display_data"
    }
   ],
   "source": [
    "import matplotlib.pyplot as plt\n",
    "\n",
    "plt.figure(figsize=(20,10))\n",
    "plt.xlim(70, 130), plt.ylim(20,120)\n",
    "\n",
    "for l in lines:\n",
    "    plt.plot(l[0], l[1])\n",
    "    \n",
    "plt.show()"
   ]
  }
 ],
 "metadata": {
  "kernelspec": {
   "display_name": "Python 3",
   "language": "python",
   "name": "python3"
  },
  "language_info": {
   "codemirror_mode": {
    "name": "ipython",
    "version": 3
   },
   "file_extension": ".py",
   "mimetype": "text/x-python",
   "name": "python",
   "nbconvert_exporter": "python",
   "pygments_lexer": "ipython3",
   "version": "3.6.8"
  }
 },
 "nbformat": 4,
 "nbformat_minor": 2
}
